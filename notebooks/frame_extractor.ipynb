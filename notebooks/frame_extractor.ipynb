{
 "cells": [
  {
   "cell_type": "code",
   "execution_count": 2,
   "metadata": {},
   "outputs": [],
   "source": [
    "from typing import Optional\n",
    "import numpy as np\n",
    "from supervision import ImageSink\n",
    "import cv2\n",
    "import os\n",
    "\n",
    "class MyImageSink(ImageSink):\n",
    "    def save_image(self, image: np.ndarray, image_name: Optional[str] = None,quality:int = 70):\n",
    "\n",
    "        if image_name is None:\n",
    "            image_name = self.image_name_pattern.format(self.image_count)\n",
    "\n",
    "        image_path = os.path.join(self.target_dir_path, image_name)\n",
    "        cv2.imwrite(image_path, image,[cv2.IMWRITE_JPEG_QUALITY, quality])\n",
    "        self.image_count += 1\n",
    "        \n",
    "        \n",
    "def zoom_center(img, zoom_factor=1.5):\n",
    "\n",
    "    y_size = img.shape[0]\n",
    "    x_size = img.shape[1]\n",
    "    \n",
    "    # define new boundaries\n",
    "    x1 = int(0.5*x_size*(1-1/zoom_factor))\n",
    "    x2 = int(x_size-0.5*x_size*(1-1/zoom_factor))\n",
    "    y1 = int(0.5*y_size*(1-1/zoom_factor))\n",
    "    y2 = int(y_size-0.5*y_size*(1-1/zoom_factor))\n",
    "\n",
    "    # first crop image then scale\n",
    "    img_cropped = img[y1:y2,x1:x2]\n",
    "    return cv2.resize(img_cropped, None, fx=zoom_factor, fy=zoom_factor)\n"
   ]
  },
  {
   "cell_type": "code",
   "execution_count": 3,
   "metadata": {},
   "outputs": [
    {
     "name": "stderr",
     "output_type": "stream",
     "text": [
      "2619it [01:30, 28.95it/s]\n"
     ]
    }
   ],
   "source": [
    "import supervision as sv\n",
    "from tqdm import tqdm\n",
    "\n",
    "target_dir=\"../dataset/motogp\"\n",
    "source_video=\"../video/motogp.mp4\"\n",
    "\n",
    "\n",
    "with MyImageSink(target_dir_path=target_dir,image_name_pattern=\"image_{:05d}.jpg\",overwrite=True) as sink:\n",
    "    for image in tqdm(sv.get_video_frames_generator(source_path=source_video, stride=60)):\n",
    "        crop=zoom_center(img=image,zoom_factor=1.4)\n",
    "        sink.save_image(image=crop)"
   ]
  },
  {
   "cell_type": "code",
   "execution_count": null,
   "metadata": {},
   "outputs": [],
   "source": []
  }
 ],
 "metadata": {
  "kernelspec": {
   "display_name": "venv",
   "language": "python",
   "name": "python3"
  },
  "language_info": {
   "codemirror_mode": {
    "name": "ipython",
    "version": 3
   },
   "file_extension": ".py",
   "mimetype": "text/x-python",
   "name": "python",
   "nbconvert_exporter": "python",
   "pygments_lexer": "ipython3",
   "version": "3.9.10"
  },
  "orig_nbformat": 4
 },
 "nbformat": 4,
 "nbformat_minor": 2
}
